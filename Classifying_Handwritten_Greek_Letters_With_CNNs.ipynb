{
  "cells": [
    {
      "cell_type": "markdown",
      "source": [
        "# Package Importation"
      ],
      "metadata": {
        "id": "zBBjI7btA53D"
      }
    },
    {
      "cell_type": "code",
      "execution_count": null,
      "metadata": {
        "id": "UpsvLEbC1oAv"
      },
      "outputs": [],
      "source": [
        "#Data manipulation and visulisation\n",
        "import seaborn as sns \n",
        "import matplotlib.pyplot as plt \n",
        "import matplotlib.patches as mpatches\n",
        "import pandas as pd \n",
        "import numpy as np \n",
        "\n",
        "\n",
        "#Image loading and processing\n",
        "from keras.preprocessing.image import load_img, img_to_array\n",
        "from keras_preprocessing.image import ImageDataGenerator\n",
        "\n",
        "\n",
        "#Data Processing for modelling\n",
        "from sklearn.model_selection import train_test_split\n",
        "from sklearn.model_selection import StratifiedKFold\n",
        "from tensorflow.keras.utils import to_categorical\n",
        "\n",
        "\n",
        "#Model evaluation\n",
        "from sklearn import metrics\n",
        "from sklearn.metrics import confusion_matrix, accuracy_score\n",
        "from sklearn.metrics import classification_report\n",
        "from sklearn.model_selection import cross_val_score\n",
        "\n",
        "\n",
        "#Sklearn Classification models\n",
        "from sklearn import svm\n",
        "from sklearn.svm import SVC\n",
        "from sklearn.tree import DecisionTreeClassifier\n",
        "from sklearn.ensemble import RandomForestClassifier\n",
        "from sklearn.naive_bayes import GaussianNB\n",
        "from sklearn.linear_model import LogisticRegression\n",
        "from sklearn.linear_model import RidgeClassifier\n",
        "from sklearn.linear_model import SGDClassifier\n",
        "\n",
        "#Keras Modelling for CNNs\n",
        "import keras\n",
        "import tensorflow as tf\n",
        "from tensorflow.keras.models import Sequential\n",
        "from tensorflow.keras import layers\n",
        "from tensorflow.keras.models import Model\n",
        "from keras import regularizers, optimizers\n",
        "\n",
        "\n",
        "#OS package\n",
        "import os"
      ]
    },
    {
      "cell_type": "markdown",
      "metadata": {
        "id": "cpiKBGFq2qjD"
      },
      "source": [
        "# Data Importation\n",
        "\n",
        "In this section unzip the tar.bz2 file containing the data required for this project. The first of the two key parts of data for this project are the 'hasy-data-labels.csv'file which contains the images paths for all of the images and their associated labels. The second is the directory called 'hasy-data' and contains the 168233 images of the mathematical characters and symbols. Once the csv is imported as a dataframe we will look to load the desired images(the greek letters) and convert them to arrays ready for modelling."
      ]
    },
    {
      "cell_type": "code",
      "source": [
        "#Extract contents of tar.bz2 file containing the dataset\n",
        "!tar -xjvf \"HASYv2.tar.bz2\""
      ],
      "metadata": {
        "id": "xyjJR9iKuK1o"
      },
      "execution_count": null,
      "outputs": []
    },
    {
      "cell_type": "code",
      "execution_count": null,
      "metadata": {
        "id": "kq7AaNG9M8Fb"
      },
      "outputs": [],
      "source": [
        "#Import dataframe containing the labels for each image and their image paths\n",
        "labelled_df = pd.read_csv('hasy-data-labels.csv')"
      ]
    },
    {
      "cell_type": "code",
      "source": [
        "#Changes directory so we are in the directory containing the images and checks the number of photos in the folder\n",
        "#to ensure that the unzipping has gone correctly. There should be 168233 items in the folder. We then return to the parent directory.\n",
        "os.chdir('hasy-data')\n",
        "print(len(os.listdir()))\n",
        "os.chdir('..')"
      ],
      "metadata": {
        "colab": {
          "base_uri": "https://localhost:8080/"
        },
        "id": "ysss2A8F6BAa",
        "outputId": "c1042faf-f678-4302-ab20-c448a4158e58"
      },
      "execution_count": null,
      "outputs": [
        {
          "output_type": "stream",
          "name": "stdout",
          "text": [
            "168233\n"
          ]
        }
      ]
    },
    {
      "cell_type": "markdown",
      "source": [
        "## Initial Exploration\n",
        "\n",
        "Exploring the dataframe, checking dtypes, unique values and creating a dataframe consisting of only the greek letters in this dataset."
      ],
      "metadata": {
        "id": "kJDLTXPlwyFq"
      }
    },
    {
      "cell_type": "code",
      "source": [
        "#Manual inspection of dataframe \n",
        "labelled_df.head(5)"
      ],
      "metadata": {
        "colab": {
          "base_uri": "https://localhost:8080/",
          "height": 206
        },
        "id": "gaj4Lufsw32n",
        "outputId": "9e9d6999-a2c8-455e-b162-7cf0adcba75c"
      },
      "execution_count": null,
      "outputs": [
        {
          "output_type": "execute_result",
          "data": {
            "text/html": [
              "\n",
              "  <div id=\"df-8ef4d555-d1f6-4219-9842-225f63c1028f\">\n",
              "    <div class=\"colab-df-container\">\n",
              "      <div>\n",
              "<style scoped>\n",
              "    .dataframe tbody tr th:only-of-type {\n",
              "        vertical-align: middle;\n",
              "    }\n",
              "\n",
              "    .dataframe tbody tr th {\n",
              "        vertical-align: top;\n",
              "    }\n",
              "\n",
              "    .dataframe thead th {\n",
              "        text-align: right;\n",
              "    }\n",
              "</style>\n",
              "<table border=\"1\" class=\"dataframe\">\n",
              "  <thead>\n",
              "    <tr style=\"text-align: right;\">\n",
              "      <th></th>\n",
              "      <th>path</th>\n",
              "      <th>symbol_id</th>\n",
              "      <th>latex</th>\n",
              "      <th>user_id</th>\n",
              "    </tr>\n",
              "  </thead>\n",
              "  <tbody>\n",
              "    <tr>\n",
              "      <th>0</th>\n",
              "      <td>hasy-data/v2-00000.png</td>\n",
              "      <td>31</td>\n",
              "      <td>A</td>\n",
              "      <td>50</td>\n",
              "    </tr>\n",
              "    <tr>\n",
              "      <th>1</th>\n",
              "      <td>hasy-data/v2-00001.png</td>\n",
              "      <td>31</td>\n",
              "      <td>A</td>\n",
              "      <td>10</td>\n",
              "    </tr>\n",
              "    <tr>\n",
              "      <th>2</th>\n",
              "      <td>hasy-data/v2-00002.png</td>\n",
              "      <td>31</td>\n",
              "      <td>A</td>\n",
              "      <td>43</td>\n",
              "    </tr>\n",
              "    <tr>\n",
              "      <th>3</th>\n",
              "      <td>hasy-data/v2-00003.png</td>\n",
              "      <td>31</td>\n",
              "      <td>A</td>\n",
              "      <td>43</td>\n",
              "    </tr>\n",
              "    <tr>\n",
              "      <th>4</th>\n",
              "      <td>hasy-data/v2-00004.png</td>\n",
              "      <td>31</td>\n",
              "      <td>A</td>\n",
              "      <td>4435</td>\n",
              "    </tr>\n",
              "  </tbody>\n",
              "</table>\n",
              "</div>\n",
              "      <button class=\"colab-df-convert\" onclick=\"convertToInteractive('df-8ef4d555-d1f6-4219-9842-225f63c1028f')\"\n",
              "              title=\"Convert this dataframe to an interactive table.\"\n",
              "              style=\"display:none;\">\n",
              "        \n",
              "  <svg xmlns=\"http://www.w3.org/2000/svg\" height=\"24px\"viewBox=\"0 0 24 24\"\n",
              "       width=\"24px\">\n",
              "    <path d=\"M0 0h24v24H0V0z\" fill=\"none\"/>\n",
              "    <path d=\"M18.56 5.44l.94 2.06.94-2.06 2.06-.94-2.06-.94-.94-2.06-.94 2.06-2.06.94zm-11 1L8.5 8.5l.94-2.06 2.06-.94-2.06-.94L8.5 2.5l-.94 2.06-2.06.94zm10 10l.94 2.06.94-2.06 2.06-.94-2.06-.94-.94-2.06-.94 2.06-2.06.94z\"/><path d=\"M17.41 7.96l-1.37-1.37c-.4-.4-.92-.59-1.43-.59-.52 0-1.04.2-1.43.59L10.3 9.45l-7.72 7.72c-.78.78-.78 2.05 0 2.83L4 21.41c.39.39.9.59 1.41.59.51 0 1.02-.2 1.41-.59l7.78-7.78 2.81-2.81c.8-.78.8-2.07 0-2.86zM5.41 20L4 18.59l7.72-7.72 1.47 1.35L5.41 20z\"/>\n",
              "  </svg>\n",
              "      </button>\n",
              "      \n",
              "  <style>\n",
              "    .colab-df-container {\n",
              "      display:flex;\n",
              "      flex-wrap:wrap;\n",
              "      gap: 12px;\n",
              "    }\n",
              "\n",
              "    .colab-df-convert {\n",
              "      background-color: #E8F0FE;\n",
              "      border: none;\n",
              "      border-radius: 50%;\n",
              "      cursor: pointer;\n",
              "      display: none;\n",
              "      fill: #1967D2;\n",
              "      height: 32px;\n",
              "      padding: 0 0 0 0;\n",
              "      width: 32px;\n",
              "    }\n",
              "\n",
              "    .colab-df-convert:hover {\n",
              "      background-color: #E2EBFA;\n",
              "      box-shadow: 0px 1px 2px rgba(60, 64, 67, 0.3), 0px 1px 3px 1px rgba(60, 64, 67, 0.15);\n",
              "      fill: #174EA6;\n",
              "    }\n",
              "\n",
              "    [theme=dark] .colab-df-convert {\n",
              "      background-color: #3B4455;\n",
              "      fill: #D2E3FC;\n",
              "    }\n",
              "\n",
              "    [theme=dark] .colab-df-convert:hover {\n",
              "      background-color: #434B5C;\n",
              "      box-shadow: 0px 1px 3px 1px rgba(0, 0, 0, 0.15);\n",
              "      filter: drop-shadow(0px 1px 2px rgba(0, 0, 0, 0.3));\n",
              "      fill: #FFFFFF;\n",
              "    }\n",
              "  </style>\n",
              "\n",
              "      <script>\n",
              "        const buttonEl =\n",
              "          document.querySelector('#df-8ef4d555-d1f6-4219-9842-225f63c1028f button.colab-df-convert');\n",
              "        buttonEl.style.display =\n",
              "          google.colab.kernel.accessAllowed ? 'block' : 'none';\n",
              "\n",
              "        async function convertToInteractive(key) {\n",
              "          const element = document.querySelector('#df-8ef4d555-d1f6-4219-9842-225f63c1028f');\n",
              "          const dataTable =\n",
              "            await google.colab.kernel.invokeFunction('convertToInteractive',\n",
              "                                                     [key], {});\n",
              "          if (!dataTable) return;\n",
              "\n",
              "          const docLinkHtml = 'Like what you see? Visit the ' +\n",
              "            '<a target=\"_blank\" href=https://colab.research.google.com/notebooks/data_table.ipynb>data table notebook</a>'\n",
              "            + ' to learn more about interactive tables.';\n",
              "          element.innerHTML = '';\n",
              "          dataTable['output_type'] = 'display_data';\n",
              "          await google.colab.output.renderOutput(dataTable, element);\n",
              "          const docLink = document.createElement('div');\n",
              "          docLink.innerHTML = docLinkHtml;\n",
              "          element.appendChild(docLink);\n",
              "        }\n",
              "      </script>\n",
              "    </div>\n",
              "  </div>\n",
              "  "
            ],
            "text/plain": [
              "                     path  symbol_id latex  user_id\n",
              "0  hasy-data/v2-00000.png         31     A       50\n",
              "1  hasy-data/v2-00001.png         31     A       10\n",
              "2  hasy-data/v2-00002.png         31     A       43\n",
              "3  hasy-data/v2-00003.png         31     A       43\n",
              "4  hasy-data/v2-00004.png         31     A     4435"
            ]
          },
          "metadata": {},
          "execution_count": 6
        }
      ]
    },
    {
      "cell_type": "code",
      "source": [
        "#Double check size and shape of dataframe\n",
        "labelled_df.shape"
      ],
      "metadata": {
        "colab": {
          "base_uri": "https://localhost:8080/"
        },
        "id": "PRXNaqkvw5nt",
        "outputId": "6c791b50-6c43-474c-d7b0-2fb7ddac458d"
      },
      "execution_count": null,
      "outputs": [
        {
          "output_type": "execute_result",
          "data": {
            "text/plain": [
              "(168233, 4)"
            ]
          },
          "metadata": {},
          "execution_count": 7
        }
      ]
    },
    {
      "cell_type": "code",
      "source": [
        "#Check dataframe datatypes\n",
        "labelled_df.dtypes"
      ],
      "metadata": {
        "colab": {
          "base_uri": "https://localhost:8080/"
        },
        "id": "SA2CN4ZSw7fH",
        "outputId": "6985886f-5310-4d22-9788-46cbca8e335b"
      },
      "execution_count": null,
      "outputs": [
        {
          "output_type": "execute_result",
          "data": {
            "text/plain": [
              "path         object\n",
              "symbol_id     int64\n",
              "latex        object\n",
              "user_id       int64\n",
              "dtype: object"
            ]
          },
          "metadata": {},
          "execution_count": 8
        }
      ]
    },
    {
      "cell_type": "code",
      "execution_count": null,
      "metadata": {
        "id": "00kPRKZJ3NlL"
      },
      "outputs": [],
      "source": [
        "#Finds the unique letters/symbols contained in the dataset - Note that there are 369 unique different mathematical symbols/characters\n",
        "labelled_df['latex'].unique()"
      ]
    },
    {
      "cell_type": "code",
      "source": [
        "#Since I will only be looking at the greek letters I have created a list containing all of the \n",
        "#greek letters in order(lower case first then upper case and then alternative styles)\n",
        "greek_letters = ['\\\\alpha','\\\\beta','\\\\gamma','\\\\delta','\\\\epsilon','\\\\zeta','\\\\eta','\\\\theta','\\\\iota',\n",
        "                 '\\\\kappa','\\\\lambda','\\\\mu','\\\\nu','\\\\xi','\\\\pi','\\\\rho','\\\\sigma','\\\\tau',\n",
        "                 '\\\\phi','\\\\chi','\\\\psi','\\\\omega','\\\\Gamma', '\\\\Delta','\\\\Theta','\\\\Lambda','\\\\Xi','\\\\Pi',\n",
        "                 '\\\\Sigma','\\\\Phi','\\\\Psi','\\\\Omega','\\\\varepsilon','\\\\varkappa','\\\\varpi','\\\\varrho','\\\\varphi','\\\\vartheta']"
      ],
      "metadata": {
        "id": "jvOzIysEUpgZ"
      },
      "execution_count": null,
      "outputs": []
    },
    {
      "cell_type": "code",
      "source": [
        "#Create a list of ints from 0 to 37 (38 integers) that I will assign to each unique greek letter and this is what I will use to identify them\n",
        "greek_encoding = [i for i in range(38)]"
      ],
      "metadata": {
        "id": "ybWwxgRrWBN7"
      },
      "execution_count": null,
      "outputs": []
    },
    {
      "cell_type": "code",
      "execution_count": null,
      "metadata": {
        "id": "wTnPxE565cKK"
      },
      "outputs": [],
      "source": [
        "#From the whole dataframe I create a new dataframe consisting only of the greek letters\n",
        "greek_letters_df = labelled_df[labelled_df['latex'].isin(greek_letters)]"
      ]
    },
    {
      "cell_type": "code",
      "source": [
        "#With the list of greek letters and their encoding I create a dictionary so that I can assign the images their correct encoded value\n",
        "greek_dict = dict(zip(greek_letters, greek_encoding))"
      ],
      "metadata": {
        "id": "UZecahj9dzBQ"
      },
      "execution_count": null,
      "outputs": []
    },
    {
      "cell_type": "code",
      "execution_count": null,
      "metadata": {
        "id": "ZWZwEL1zaBJq"
      },
      "outputs": [],
      "source": [
        "#Creates a new column in the dataframe which adds the greek letter's encoded value - the label\n",
        "greek_letters_df['label'] = greek_letters_df['latex'].apply(lambda x: greek_dict.get(x))"
      ]
    },
    {
      "cell_type": "markdown",
      "source": [
        "## Class imbalance\n",
        "\n",
        "Before I begin loading in the images I will firstly look at the class imbalance within the dataset and create a barchart visualisaing this imbalance."
      ],
      "metadata": {
        "id": "9DNdx6aSt0Ld"
      }
    },
    {
      "cell_type": "code",
      "source": [
        "#Counts the number of times each greek letter appears, in descending order of count\n",
        "greek_letter_count = greek_letters_df.groupby(by = 'latex')['label'].count().reset_index(name= 'count').sort_values(['count'],ascending = False)"
      ],
      "metadata": {
        "id": "tbQGd-AyikeD"
      },
      "execution_count": null,
      "outputs": []
    },
    {
      "cell_type": "code",
      "source": [
        "#Creates a list of the greek letters in the same order as the groupby above and formats them so that they will be in latex in the barplot as these will \n",
        "# be the labels of the bars\n",
        "latex_labels = [r'$' + x + '$' for x in greek_letter_count['latex']]"
      ],
      "metadata": {
        "id": "QSLHGSX4k56C"
      },
      "execution_count": null,
      "outputs": []
    },
    {
      "cell_type": "code",
      "source": [
        "#Creates a barchart of the number of times each greek letter occurs in the dataset\n",
        "\n",
        "greek_letter_count_plot = plt.figure(figsize = (20,10))\n",
        "\n",
        "\n",
        "sns.barplot(data = greek_letter_count,y = 'count',x = 'latex',color = '#DC3220')\n",
        "plt.title('Greek Letter Character Counts from the HASYv2 Dataset',fontsize = 24)\n",
        "plt.xticks(greek_encoding,labels = latex_labels, fontsize = 14)\n",
        "plt.yticks(fontsize = 14)\n",
        "plt.xlabel('Greek Letter',fontsize = 18)\n",
        "plt.ylabel('Image Count',fontsize = 18)\n"
      ],
      "metadata": {
        "colab": {
          "base_uri": "https://localhost:8080/",
          "height": 665
        },
        "id": "iHo7I6O3jffI",
        "outputId": "44fe0f9a-3dd8-4980-efd8-a4547d51100e"
      },
      "execution_count": null,
      "outputs": [
        {
          "output_type": "execute_result",
          "data": {
            "text/plain": [
              "Text(0, 0.5, 'Image Count')"
            ]
          },
          "metadata": {},
          "execution_count": 17
        },
        {
          "output_type": "display_data",
          "data": {
            "image/png": "[encoded data removed]",
            "text/plain": [
              "<Figure size 1440x720 with 1 Axes>"
            ]
          },
          "metadata": {
            "needs_background": "light"
          }
        }
      ]
    },
    {
      "cell_type": "markdown",
      "metadata": {
        "id": "fGJPKRB9Q6Lv"
      },
      "source": [
        "## Data Preparation\n",
        "\n",
        "In this section I will be importing the images and converting them into arrays. Additionally, I will be formatting the arrays into a suitable format for the upcoming modelling techniques. Note that at the end of this workbook I will provide an alternative approach to loading in image data using Keras ImageDataGenerators.\n",
        "\n",
        "\n",
        "\n"
      ]
    },
    {
      "cell_type": "code",
      "source": [
        "#Creates a list of image paths\n",
        "greek_letter_img_paths = greek_letters_df['path'].tolist()"
      ],
      "metadata": {
        "id": "6PcyZ7OZWiUk"
      },
      "execution_count": null,
      "outputs": []
    },
    {
      "cell_type": "code",
      "execution_count": null,
      "metadata": {
        "id": "alVKjJe36ABK"
      },
      "outputs": [],
      "source": [
        "#Creates a list of labels for the greek letters\n",
        "greek_letter_labels = greek_letters_df['label'].tolist()"
      ]
    },
    {
      "cell_type": "code",
      "source": [
        "def list_img_to_array(path_list):\n",
        "  ''' Function takes in a list of image paths converts the images(grayscale) into np.arrays of size (height x width) where the image has number of \n",
        "  pixels height x width. All of these arrays are appended together to create a single array which is returned. \n",
        "\n",
        "  parameters:\n",
        "  - path_list: A list of image file paths\n",
        "\n",
        "  output:\n",
        "  - full_img_array: An np.array of images represented as arrays\n",
        "  '''\n",
        "\n",
        "  #Set counter to 0 - This is for the first image, an array is created from the first image and for all images after,\n",
        "  #their arrays are simply appeneded to this first array\n",
        "  counter = 0\n",
        "\n",
        "  #Iterate through path list\n",
        "  for path in path_list:\n",
        "    if counter > 0:\n",
        "      #Loads image in greyscale as they are black and white\n",
        "      img=load_img(path,color_mode = 'grayscale')\n",
        "      #Convert image to array\n",
        "      img_array = img_to_array(img)\n",
        "      #Appends array to the array containing all image arrays\n",
        "      full_img_array = np.append(full_img_array,img_array)\n",
        "    else:\n",
        "      #Creates an array from the first image\n",
        "      img=load_img(path,color_mode = 'grayscale')\n",
        "      full_img_array = img_to_array(img)\n",
        "      counter+=1\n",
        "\n",
        "  return full_img_array"
      ],
      "metadata": {
        "id": "6wW28oblvD3k"
      },
      "execution_count": null,
      "outputs": []
    },
    {
      "cell_type": "code",
      "source": [
        "#CNNs require data in the form (32,32,1) so we reshape the full image array into that format using this function\n",
        "def cnn_arr_reshape(array):\n",
        "  cnn_arr = array.reshape(-1,32,32,1)\n",
        "  return cnn_arr"
      ],
      "metadata": {
        "id": "6GVUKUV2SYJs"
      },
      "execution_count": null,
      "outputs": []
    },
    {
      "cell_type": "code",
      "source": [
        "#Other models such as logistic regression and SVM require it in the form (1024,),since images are 32x23 = 1024, \n",
        "#so this function reshapes it as such\n",
        "def model_arr_reshape(array):\n",
        "  model_arr = array.reshape(-1,1024)\n",
        "  return model_arr"
      ],
      "metadata": {
        "id": "eCwzBe4xSkEk"
      },
      "execution_count": null,
      "outputs": []
    },
    {
      "cell_type": "code",
      "source": [
        "#CNNs and some other models like normalised values and since our arrays contain values from 0 to 255 at the moment \n",
        "#we divide by 255 so that they are within 0 and 1\n",
        "def normalisation_func(array):\n",
        "  norm_arr = array.astype('float32')\n",
        "  norm_arr = norm_arr / 255\n",
        "  return norm_arr\n",
        "  "
      ],
      "metadata": {
        "id": "0B8Cnp44b50M"
      },
      "execution_count": null,
      "outputs": []
    },
    {
      "cell_type": "code",
      "source": [
        "def image_processing_func(path_list):\n",
        "  '''Function takes a list of image paths applies the formatting functions defined above. More specifically it returns two normalised arrays, \n",
        "  one for Convolutional Neural Networks(CNNs) and another for classical machine learning models containing the images represented as arrays.\n",
        "\n",
        "  parameters:\n",
        "  - path list: A list of image file paths\n",
        "\n",
        "  output:\n",
        "  - full_img_array_cnn: An np.array of shape (n,32,32,1) where n is the number of images in the file path. The images are 32x32 in size\n",
        "   which is why the number 32 is chosen. \n",
        "  - full_img_array_model: An np.array of shape (n,1024) where n is the number of images in the file path. The images are 32x32 = 1024 in size\n",
        "   which is why the number 1024 is chosen. \n",
        "  '''\n",
        "\n",
        "  #Apply the list_img_to_array function to create a numpy array from images\n",
        "  full_image_array = list_img_to_array(path_list)\n",
        "  \n",
        "  #Create two new arrays using the reshape functions I defined, one for CNNs and another for classical models\n",
        "  full_img_array_reshape_cnn = cnn_arr_reshape(full_image_array)\n",
        "  full_img_array_reshape_model = model_arr_reshape(full_image_array)\n",
        "\n",
        "  #Perform normalisation on these two arrays\n",
        "  full_img_array_reshape_cnn = normalisation_func(full_img_array_reshape_cnn)\n",
        "  full_img_array_reshape_model = normalisation_func(full_img_array_reshape_model)\n",
        "\n",
        "  return full_img_array_reshape_cnn, full_img_array_reshape_model"
      ],
      "metadata": {
        "id": "uqMi8j3MoCBw"
      },
      "execution_count": null,
      "outputs": []
    },
    {
      "cell_type": "code",
      "source": [
        "img_array_cnn, img_array_model = image_processing_func(greek_letter_img_paths)"
      ],
      "metadata": {
        "id": "S2L6yP4gokVE"
      },
      "execution_count": null,
      "outputs": []
    },
    {
      "cell_type": "markdown",
      "source": [
        "# TRAIN TEST SPLIT\n",
        "\n",
        "Due to different models and different types of testing (train and test or k-fold validation) requiring different input types/shapes I have defined a variety of different train_test_split functions.\n",
        "\n",
        "In particular, convolutional neural networks require their targets(i.e. the image labels) to be one hot encoded. So for us as their is 38 different labels, the y_train,y_test arrays will have size (n,38) and (j,38) where n and j are the number of images in the train and test split respectively. Conversly, other models such as SVM and Random forest require the targets as a single column so we will require two different splitting functions. "
      ],
      "metadata": {
        "id": "e8TitKIBT0Vi"
      }
    },
    {
      "cell_type": "code",
      "source": [
        "def train_test_cross_val(feature,labels):\n",
        "  ''' This function train_test_splits the features and targets into a format so that the X_train,X_test,y_train,y_test can be used for\n",
        "  k-fold cross validation for classical models, such as svm and random forests but also for CNNs. Note that while normally CNNs require\n",
        "  one-hot-encoded target variables, the reason we do not one-hot-encode the target variable here is stratified k-fold validation can't\n",
        "  split multi-label targets so we must do the one-hot-encoding after the k-fold split.\n",
        "\n",
        "  parameters:\n",
        "  - feature: An array of the images pixel values of any shape\n",
        "  - labels: The corresponding labels for each image(what image are they)\n",
        "\n",
        "  output:\n",
        "  - X_train: Array containing training pixel data of the images\n",
        "  - X_test: Array containing testing pixel data of the images\n",
        "  - y_train: Array containing training labels of the images\n",
        "  - y_test: Array containing testing labels of the images\n",
        "  '''\n",
        "\n",
        "  #Define the feature data (image pixel arrays) and the target (single column of values from 0 - 37)\n",
        "  X = feature\n",
        "  y = np.asarray(labels)\n",
        "\n",
        "  #Creates training and test split with test size of 0.2 and using stratified sampling\n",
        "  X_train,X_test,y_train,y_test = train_test_split(X,y,test_size = 0.2,random_state =32, stratify=y)\n",
        "\n",
        "  return X_train,X_test,y_train,y_test"
      ],
      "metadata": {
        "id": "AIKbbq2FUL-A"
      },
      "execution_count": null,
      "outputs": []
    },
    {
      "cell_type": "code",
      "source": [
        "def train_test_split_cnn(feature,labels):\n",
        "  ''' This function train_test_splits the features and targets into a format so that the X_train,X_test,y_train,y_test can be used for\n",
        "  standard train and test using convolutional neural networks.  Convolutional neural networks requires the target output for \n",
        "  classification tasks to be one-hot-encoded. The to_cateogorical function allows us to one-hot-encode easily.\n",
        "\n",
        "  parameters:\n",
        "  - feature: An array of the images pixel values of any shape\n",
        "  - labels: The corresponding labels for each image(what image are they)\n",
        "\n",
        "  output:\n",
        "  - X_train: Array containing training pixel data of the images\n",
        "  - X_test: Array containing testing pixel data of the images\n",
        "  - y_train: Array containing training labels of the images\n",
        "  - y_test: Array containing testing labels of the images\n",
        "  '''\n",
        "\n",
        "  #Here we are one-hot-encoding the greek_letters_labels\n",
        "  cnn_targets = to_categorical(labels,38)\n",
        "\n",
        "  #Define the feature data (image pixel arrays) and the target (one-hot encoded labels)\n",
        "  X = feature\n",
        "  y = cnn_targets\n",
        "\n",
        "  #Creates training and test split with test size of 0.2\n",
        "  X_train,X_test,y_train,y_test = train_test_split(X,y,test_size = 0.2,random_state =32,stratify=y)\n",
        "\n",
        "\n",
        "  return X_train,X_test,y_train,y_test"
      ],
      "metadata": {
        "id": "KWn4CPOuUkus"
      },
      "execution_count": null,
      "outputs": []
    },
    {
      "cell_type": "code",
      "source": [
        "#Train and test split for k-fold cross validation for other models\n",
        "X_train_mod,X_test_mod,y_train_mod,y_test_mod = train_test_cross_val(img_array_model,greek_letter_labels)"
      ],
      "metadata": {
        "id": "LcM4qmSuVMdi"
      },
      "execution_count": null,
      "outputs": []
    },
    {
      "cell_type": "code",
      "source": [
        "#Train and test split for k-fold cross validation for convolutional neural networks\n",
        "X_train_cnn_cross,X_test_cnn_cross,y_train_cnn_cross,y_test_cnn_cross = train_test_cross_val(img_array_cnn,greek_letter_labels)"
      ],
      "metadata": {
        "id": "YnivhW1BjmUv"
      },
      "execution_count": null,
      "outputs": []
    },
    {
      "cell_type": "code",
      "source": [
        "#Train and test split for convolutional neural networks\n",
        "X_train_cnn,X_test_cnn,y_train_cnn,y_test_cnn = train_test_split_cnn(img_array_cnn,greek_letter_labels)"
      ],
      "metadata": {
        "id": "poAb32ItU8sL"
      },
      "execution_count": null,
      "outputs": []
    },
    {
      "cell_type": "markdown",
      "source": [
        "# Modelling\n",
        "\n",
        "In this section I will begin creating models to classify the images. There are two main sections - classical models such such as SVM and Decision Trees and then Convolutional Neural Networks."
      ],
      "metadata": {
        "id": "j-jKSL46H0q3"
      }
    },
    {
      "cell_type": "markdown",
      "source": [
        "## Classical Models (SVM, Decision Trees etc)\n",
        "\n",
        "In this subsection I will fit and evalluate the performance of a variety of different \"classical\" classification models on the image data using 5-fold cross validation. These \"classical\" models include the likes of SVM, Random forests, Guassian Naive Bayes. Note that I do not spend anytime tuning the hyperparameters for these models and so it is most certainly possible to improve the performance of these models for this classification task. "
      ],
      "metadata": {
        "id": "hvc0sKEkTnjz"
      }
    },
    {
      "cell_type": "code",
      "source": [
        "#Here I create a list of potential classical models including decision trees,SVM, Naive Bayes. Note the parameters were not fine-tuned \n",
        "\n",
        "models = []\n",
        "\n",
        "models.append(RandomForestClassifier(max_depth = 10))\n",
        "\n",
        "models.append(DecisionTreeClassifier(max_depth = 10))\n",
        "\n",
        "models.append(SVC())\n",
        "\n",
        "models.append(GaussianNB())\n",
        "\n",
        "models.append(SGDClassifier(max_iter=300))\n",
        "\n",
        "models.append(RidgeClassifier())"
      ],
      "metadata": {
        "id": "y23CKH9HYtAf"
      },
      "execution_count": null,
      "outputs": []
    },
    {
      "cell_type": "code",
      "source": [
        "def k_fold_cross_val_other_models(X_train,y_train,k,model):\n",
        "  ''' This function performs stratified k-fold validation on classical models provided they input an X_train,y_train array, a value \n",
        "  for number of splits for cross validation and the particular model they want to use.\n",
        "\n",
        "  parameters:\n",
        "  - X_train: Array containing training pixel data of the images\n",
        "  - y_train: Array containing training labels of the images\n",
        "  - k: the number of folds used in cross validation\n",
        "  - model: model object\n",
        "\n",
        "  output:\n",
        "  - acc_scores: List containing the models k-fold cross validation accuracy scores.\n",
        "  '''\n",
        "\n",
        "  acc_scores = []\n",
        "  #Create stratified k-fold split\n",
        "  k_fold_split = StratifiedKFold(n_splits=k)\n",
        "\n",
        "  #Iterate through the split using training data which will split further into training and validation data.\n",
        "  for train_index, test_index in k_fold_split.split(X_train, y_train):\n",
        "    X_train_val, X_test_val = X_train[train_index], X_train[test_index]\n",
        "    y_train_val, y_test_val = y_train[train_index], y_train[test_index]\n",
        "\n",
        "    model = model\n",
        "    #Fit model using the training split for each fold\n",
        "    model.fit(X_train_val, y_train_val)\n",
        "    #Predict the image label of the validation data\n",
        "    y_test_pred = model.predict(X_test_val)\n",
        "\n",
        "    #Calculate the accuracy score on validation data\n",
        "    test_acc = accuracy_score(y_test_val, y_test_pred)\n",
        "    acc_scores.append(test_acc)\n",
        "\n",
        "  return acc_scores"
      ],
      "metadata": {
        "id": "G_vMN8ZvHOau"
      },
      "execution_count": null,
      "outputs": []
    },
    {
      "cell_type": "code",
      "source": [
        "#Iterate through the models in the model list and record their scores\n",
        "classical_model_accuracy = []\n",
        "\n",
        "for model in models:\n",
        "  model_accuracy = k_fold_cross_val_other_models(X_train_mod,y_train_mod,5, model)\n",
        "  classical_model_accuracy.append(model_accuracy)\n"
      ],
      "metadata": {
        "id": "hwwL87xddBcA"
      },
      "execution_count": null,
      "outputs": []
    },
    {
      "cell_type": "markdown",
      "source": [
        "### Classical Model Box Plots\n",
        "\n",
        "In this subsection we breifly inspect the performance of the classification models that we tried by looking at their boxplots"
      ],
      "metadata": {
        "id": "hUT14P_4JTFP"
      }
    },
    {
      "cell_type": "code",
      "source": [
        "#Calculate the mean accuracy scores for the results from the cross validation\n",
        "classical_model_mean_accuracy = sorted([sum(x)/5 for x in classical_model_accuracy],reverse = True)"
      ],
      "metadata": {
        "id": "COCcX74mOOBg"
      },
      "execution_count": null,
      "outputs": []
    },
    {
      "cell_type": "code",
      "source": [
        "classical_model_accuracy.sort(reverse = True)"
      ],
      "metadata": {
        "id": "X1WNBy_ivFZ-"
      },
      "execution_count": null,
      "outputs": []
    },
    {
      "cell_type": "code",
      "source": [
        "#Here we plot boxplots for the classical models performance on the 5 fold cross validation\n",
        "classical_boxplot_acc = plt.figure(figsize = (12,8))\n",
        "\n",
        "medianprops = dict(color=\"black\")\n",
        "box = plt.boxplot(x = classical_model_accuracy,vert = True,patch_artist=True,medianprops= medianprops)\n",
        "\n",
        "plt.xticks([1,2,3,4,5,6],labels  = ['SVM','SGD','Random \\n Forest', 'Ridge \\n Classifier','Decision \\n Tree', 'Naive \\n Bayes'],fontsize = 12)\n",
        "plt.xlabel('Model Name',fontsize = 16)\n",
        "plt.ylabel('Model Accuracy',fontsize = 16)\n",
        "plt.title('Boxplots of Model Accuracy using Stratified 5 fold Cross Validation', fontsize = 18)\n",
        "\n",
        "\n",
        "\n",
        "colors =  ['#DC3220', '#DC3220', '#DC3220','#DC3220','#DC3220', '#DC3220']\n",
        "for patch, color in zip(box['boxes'], colors):\n",
        "    patch.set_facecolor(color)"
      ],
      "metadata": {
        "colab": {
          "base_uri": "https://localhost:8080/",
          "height": 540
        },
        "id": "0oNRRygDsJ4c",
        "outputId": "fbe09931-1d62-41b0-df0a-5cc68ff3723a"
      },
      "execution_count": null,
      "outputs": [
        {
          "output_type": "display_data",
          "data": {
            "image/png": "[encoded data removed]",
            "text/plain": [
              "<Figure size 864x576 with 1 Axes>"
            ]
          },
          "metadata": {
            "needs_background": "light"
          }
        }
      ]
    },
    {
      "cell_type": "markdown",
      "source": [
        "## Convolutional  Neural Networks (CNNs)\n",
        "\n",
        "In this section I will create, fit, k-fold test and evaluate various convolutional neural networks."
      ],
      "metadata": {
        "id": "sNhlAuYrdXaq"
      }
    },
    {
      "cell_type": "markdown",
      "source": [
        "### CNN MODEL CREATIONS\n",
        "\n",
        "In this subsection I define the various convolutional neural networks that I will be using to classify the images."
      ],
      "metadata": {
        "id": "-0T3bY4iRn0C"
      }
    },
    {
      "cell_type": "code",
      "source": [
        "#Model creation and layer selection for our most basic convolutional neural network consisting of a single 2D convolutional layer followed by a pooling layer\n",
        "def cnn_model_1():\n",
        "  x_input = layers.Input(shape=(32, 32, 1))\n",
        "  x = layers.Conv2D(32, (3, 3), activation='relu', input_shape=(32, 32, 1))(x_input)\n",
        "  x = layers.MaxPooling2D((2, 2))(x)\n",
        "  x = layers.Flatten()(x)\n",
        "  x = layers.Dense(64, activation='relu')(x)\n",
        "  output = layers.Dense(38, activation='softmax')(x)\n",
        "  model = Model(inputs=[x_input],outputs=[output])\n",
        "  model.compile(loss='categorical_crossentropy', optimizer='adam', metrics=['accuracy'])\n",
        "  return model"
      ],
      "metadata": {
        "id": "OEiQe1hkjfhX"
      },
      "execution_count": null,
      "outputs": []
    },
    {
      "cell_type": "code",
      "source": [
        "#Model creation and layer selection for an extension of model_1 where an additional 2D convolutional layer followed by a pooling layer is added\n",
        "def cnn_model_2():\n",
        "  x_input = layers.Input(shape=(32, 32, 1))\n",
        "  x = layers.Conv2D(32, (3, 3), activation='relu', input_shape=(32, 32, 1))(x_input)\n",
        "  x = layers.MaxPooling2D((2, 2),strides=2)(x)\n",
        "  x = layers.Conv2D(64, (3, 3), activation='relu', input_shape=(32, 32, 1))(x)\n",
        "  x = layers.MaxPooling2D((2, 2),strides=2)(x)\n",
        "  x = layers.Flatten()(x)\n",
        "  x = layers.Dense(128, activation='relu')(x)\n",
        "  output = layers.Dense(38, activation='softmax')(x)\n",
        "  model = Model(inputs=[x_input],outputs=[output])\n",
        "  model.compile(loss='categorical_crossentropy', optimizer='adam', metrics=['accuracy'])\n",
        "  return model"
      ],
      "metadata": {
        "id": "rXWgLUcBmGN3"
      },
      "execution_count": null,
      "outputs": []
    },
    {
      "cell_type": "code",
      "source": [
        "#Model creation and layer selection for an extension to model_2 where an additional 2D convolutional layer followed by a pooling layer is added\n",
        "def cnn_model_3():\n",
        "  x_input = layers.Input(shape=(32, 32, 1))\n",
        "  x = layers.Conv2D(32, (3, 3), activation='relu', input_shape=(32, 32, 1))(x_input)\n",
        "  x = layers.MaxPooling2D((2, 2),strides=2)(x)\n",
        "  x = layers.Conv2D(64, (3, 3), activation='relu', input_shape=(32, 32, 1))(x)\n",
        "  x = layers.MaxPooling2D((2, 2),strides=2)(x)\n",
        "  x = layers.Conv2D(128, (3, 3), activation='relu', input_shape=(32, 32, 1))(x)\n",
        "  x = layers.MaxPooling2D((2, 2),strides=2)(x)\n",
        "  x = layers.Flatten()(x)\n",
        "  x = layers.Dense(128, activation='relu')(x)\n",
        "  output = layers.Dense(38, activation='softmax')(x)\n",
        "  model = Model(inputs=[x_input],outputs=[output])\n",
        "  model.compile(loss='categorical_crossentropy', optimizer='adam', metrics=['accuracy'])\n",
        "  return model"
      ],
      "metadata": {
        "id": "zErfC7TZsOJS"
      },
      "execution_count": null,
      "outputs": []
    },
    {
      "cell_type": "code",
      "source": [
        "#Model creation and layer selection for an extension to model_3 where dropout is added inbetween a number of different layers to reduce overfitting.\n",
        "def cnn_model_3_dropout():\n",
        "  x_input = layers.Input(shape=(32, 32, 1))\n",
        "  x = layers.Conv2D(32, (3, 3), activation='relu', input_shape=(32, 32, 1))(x_input)\n",
        "  x = layers.MaxPooling2D((2, 2),strides=2)(x)\n",
        "  x = layers.Dropout(0.2)(x)\n",
        "  x = layers.Conv2D(64, (3, 3), activation='relu', input_shape=(32, 32, 1))(x)\n",
        "  x = layers.MaxPooling2D((2, 2),strides=2)(x)\n",
        "  x = layers.Dropout(0.2)(x)\n",
        "  x = layers.Conv2D(128, (3, 3), activation='relu', input_shape=(32, 32, 1))(x)\n",
        "  x = layers.MaxPooling2D((2, 2),strides=2)(x)\n",
        "  x = layers.Dropout(0.3)(x)\n",
        "  x = layers.Flatten()(x)\n",
        "  x = layers.Dense(128, activation='relu')(x)\n",
        "  x = layers.Dropout(0.2)(x)\n",
        "  output = layers.Dense(38, activation='softmax')(x)\n",
        "  model = Model(inputs=[x_input],outputs=[output])\n",
        "  model.compile(loss='categorical_crossentropy', optimizer='adam', metrics=['accuracy'])\n",
        "  return model"
      ],
      "metadata": {
        "id": "6KiDxK_RAz8a"
      },
      "execution_count": null,
      "outputs": []
    },
    {
      "cell_type": "markdown",
      "source": [
        "### Model Instantiation\n",
        "\n",
        "In this subsection I instatiate the CNN models that I defined in the previous \n",
        "subsection."
      ],
      "metadata": {
        "id": "RWyDryAvRyuC"
      }
    },
    {
      "cell_type": "code",
      "source": [
        "greek_model_1 = cnn_model_1()"
      ],
      "metadata": {
        "id": "lD2oLpZF7x8N"
      },
      "execution_count": null,
      "outputs": []
    },
    {
      "cell_type": "code",
      "source": [
        "greek_model_2 = cnn_model_2()"
      ],
      "metadata": {
        "id": "4ZNZTo9Z8gtt"
      },
      "execution_count": null,
      "outputs": []
    },
    {
      "cell_type": "code",
      "source": [
        "greek_model_3 = cnn_model_3()"
      ],
      "metadata": {
        "id": "35C1SH-M9XZ3"
      },
      "execution_count": null,
      "outputs": []
    },
    {
      "cell_type": "code",
      "source": [
        "greek_model_4 = cnn_model_3_dropout()"
      ],
      "metadata": {
        "id": "WMn86_3eBSp8"
      },
      "execution_count": null,
      "outputs": []
    },
    {
      "cell_type": "markdown",
      "source": [
        "### CNN Cross Validation\n",
        "\n",
        "In this subsection I define my custom k-fold cross validation function for CNNs and I evaluate the performance of the CNNs that I created in the previous subsection. Accuracy scores on the k-fold splits are obtained on both the validation and training datasets for each model."
      ],
      "metadata": {
        "id": "BOTmKMtTxdR1"
      }
    },
    {
      "cell_type": "code",
      "source": [
        "#Function to perform 5 fold cross validation on data provided a model name and specified k fold number\n",
        "def k_fold_cross_val(X_train,y_train,k,model_name):\n",
        "  ''' This function performs stratified k-fold validation on convolutional neural networks provided they input an X_train,y_train array, \n",
        "  a value for number of splits for cross validation and the particular model they want to use.\n",
        "\n",
        "  parameters:\n",
        "  - X_train: Array containing training pixel data of the images\n",
        "  - y_train: Array containing training labels of the images\n",
        "  - k: the number of folds used in cross validation\n",
        "  - model: model object\n",
        "\n",
        "  output:\n",
        "  - val_acc_scores: List containing the models k-fold cross validation accuracy scores on the validation data.\n",
        "  - train_acc_scores: List containing the models k-fold cross validation accuracy scores on the training data.\n",
        "  '''\n",
        "\n",
        "  val_acc_scores = []\n",
        "  train_acc_scores = []\n",
        "\n",
        "\n",
        "  #Create stratified k-fold split\n",
        "  k_fold_split = StratifiedKFold(n_splits=k)\n",
        "\n",
        "  ##Iterate through the split using training data which will split further into training and validation data.\n",
        "  for train_index, test_index in k_fold_split.split(X_train, y_train):\n",
        "    X_train_val, X_test_val = X_train[train_index], X_train[test_index]\n",
        "    y_train_val, y_test_val = y_train[train_index], y_train[test_index]\n",
        "\n",
        "\n",
        "    #You are not able to stratify-k-fold split multilabel target variables so need to one-hot-encode after the stratfied split is performed.\n",
        "    y_train_val = to_categorical(y_train_val,38)\n",
        "    y_test_val = to_categorical(y_test_val,38)\n",
        "\n",
        "\n",
        "    model = model_name()\n",
        "\n",
        "    #Fit the model on the k-fold split. Note that if you do not want some much information about each epoch when running the \n",
        "    #cross validation then change verbose parameter to 0 rather than 2.\n",
        "    model.fit(X_train_val,y_train_val,epochs=10, verbose=0, validation_data=(X_test_val, y_test_val), batch_size=32)\n",
        "\n",
        "    #Calculate the accuracy and loss for validation data\n",
        "    test_loss,test_acc = model.evaluate(X_test_val,y_test_val,verbose = 1)\n",
        "    train_loss,train_acc = model.evaluate(X_train_val,y_train_val,verbose = 1)\n",
        "\n",
        "    #Append score to list of scores\n",
        "    val_acc_scores.append(test_acc)\n",
        "    train_acc_scores.append(train_acc)\n",
        "\n",
        "\n",
        "  return val_acc_scores, train_acc_scores"
      ],
      "metadata": {
        "id": "rp0Mg9g8gF25"
      },
      "execution_count": null,
      "outputs": []
    },
    {
      "cell_type": "code",
      "source": [
        "#Note takes roughly around 20 minutes to run\n",
        "cnn_model_1_acc, cnn_model_1_train_acc =  k_fold_cross_val(X_train_cnn_cross,y_train_cnn_cross,5,cnn_model_1)"
      ],
      "metadata": {
        "id": "MNWcwmCdPe49"
      },
      "execution_count": null,
      "outputs": []
    },
    {
      "cell_type": "code",
      "source": [
        "#Note takes roughly around 20 minutes to run\n",
        "cnn_model_2_acc, cnn_model_2_train_acc = k_fold_cross_val(X_train_cnn_cross,y_train_cnn_cross,5,cnn_model_2)"
      ],
      "metadata": {
        "id": "p46RcC1hi7uJ"
      },
      "execution_count": null,
      "outputs": []
    },
    {
      "cell_type": "code",
      "source": [
        "#Note takes roughly around 20 minutes to run\n",
        "cnn_model_3_acc, cnn_model_3_train_acc =  k_fold_cross_val(X_train_cnn_cross,y_train_cnn_cross, 5,cnn_model_3)"
      ],
      "metadata": {
        "id": "oOn7jEaqxyqR"
      },
      "execution_count": null,
      "outputs": []
    },
    {
      "cell_type": "code",
      "source": [
        "#Note takes roughly around 25 minutes to run\n",
        "cnn_model_3_dropout_acc, cnn_model_3_dropout_train_acc=  k_fold_cross_val(X_train_cnn_cross,y_train_cnn_cross, 5, cnn_model_3_dropout)"
      ],
      "metadata": {
        "id": "4uU-AElGBynN"
      },
      "execution_count": null,
      "outputs": []
    },
    {
      "cell_type": "markdown",
      "source": [
        "### Comparing Classical Models and CNNs\n",
        "\n",
        "In this subsection we breifly compare the performance of the classical classification modesls and the most basic CNN. "
      ],
      "metadata": {
        "id": "nzEGqiTEtsno"
      }
    },
    {
      "cell_type": "code",
      "source": [
        "#Append the mean performance of CNN Model 1 to the list of mean accuracies for the classical models\n",
        "classical_model_mean_accuracy.append(sum(cnn_model_1_acc)/5)"
      ],
      "metadata": {
        "id": "Z1boxveqt8Jr"
      },
      "execution_count": null,
      "outputs": []
    },
    {
      "cell_type": "code",
      "source": [
        "#Creates a barplot of the mean accuracy score of the 5 fold-cross validation for the classical models + model 1 \n",
        "model_acc_bar = plt.figure(figsize = (12,8))\n",
        "\n",
        "bars = plt.bar([1,2,3,4,5,6,7] , classical_model_mean_accuracy,color = '#D72638' )\n",
        "plt.xticks([1,2,3,4,5,6,7],labels = ['Random \\n Forest', 'Decision \\n Tree', 'SVM','Naive \\n Bayes','SGD','Ridge \\n Classifier', 'CNN Model 1'],fontsize = 12)\n",
        "plt.yticks([0,0.1,0.2,0.3,0.4,0.5,0.6,0.7,0.8,0.9,1],fontsize = 12)\n",
        "plt.xlabel('Model Name',fontsize = 16)\n",
        "plt.ylabel('Mean Accuracy',fontsize= 16)\n",
        "plt.title('Mean Accuracy of Models from Stratified 5 Fold Cross Validation',fontsize=  20)\n",
        "\n",
        "\n",
        "colors = ['#DC3220', '#DC3220', '#DC3220','#DC3220','#DC3220', '#DC3220', '#005AB5']\n",
        "\n",
        "legend_handles = [mpatches.Patch(facecolor='#DC3220',hatch = '/',label='Classical'),mpatches.Patch(facecolor='#005AB5',hatch = 'x',label='Classical')]\n",
        "labels = ['Classical','CNN']\n",
        "for patch, color in zip(bars, colors):\n",
        "    patch.set_facecolor(color)\n",
        "    patch.set_hatch('/')\n",
        "  \n",
        "\n",
        "bars[6].set_facecolor('#005AB5')\n",
        "bars[6].set_hatch('x')\n",
        "\n",
        "plt.legend(legend_handles, labels, prop={'size': 18},loc =2)"
      ],
      "metadata": {
        "colab": {
          "base_uri": "https://localhost:8080/",
          "height": 560
        },
        "outputId": "7185abbe-8619-4462-9932-54a6938a80a6",
        "id": "BpqwMw9At8Jr"
      },
      "execution_count": null,
      "outputs": [
        {
          "output_type": "execute_result",
          "data": {
            "text/plain": [
              "<matplotlib.legend.Legend at 0x7f689de90f90>"
            ]
          },
          "metadata": {},
          "execution_count": 205
        },
        {
          "output_type": "display_data",
          "data": {
            "image/png": "[encoded data removed]",
            "text/plain": [
              "<Figure size 864x576 with 1 Axes>"
            ]
          },
          "metadata": {
            "needs_background": "light"
          }
        }
      ]
    },
    {
      "cell_type": "markdown",
      "source": [
        "### Does the number of layers impact performance?\n",
        "\n",
        "In this subsection we inspect how the number of layers impacts model performance using 5 fold cross validation. Recall model 1 is the most basic CNN and models 2 and 3 are extensions of model 1. Each extension involved adding more layers to the CNN, more Conv2d layers and more MaxPooling layers. I initially attempted to add even more layers to model 3 but not only did runtime increase but I didn't see an improvement in performance. "
      ],
      "metadata": {
        "id": "zmdbDBovMdpq"
      }
    },
    {
      "cell_type": "code",
      "source": [
        "#Creates a list containing accuracy scores for cnn model 1,2 and 3 from the 5 fold cross validation\n",
        "cnn_layer_acc = [cnn_model_1_acc, cnn_model_2_acc, cnn_model_3_acc]"
      ],
      "metadata": {
        "id": "ps17LX2guq3H"
      },
      "execution_count": null,
      "outputs": []
    },
    {
      "cell_type": "code",
      "source": [
        "# Creates a boxplot detailing the influence of the number of layers on model performance\n",
        "cnn_boxplot_acc = plt.figure(figsize = (12,8))\n",
        "\n",
        "medianprops = dict(color=\"black\")\n",
        "box = plt.boxplot(x = cnn_layer_acc,vert = True,patch_artist=True,medianprops= medianprops)\n",
        "\n",
        "plt.xticks([1,2,3],labels = ['CNN Model 1' ,'CNN Model 2','CNN Model 3'],fontsize = 12)\n",
        "plt.xlabel('Model Name',fontsize = 16)\n",
        "plt.ylabel('Model Accuracy',fontsize = 16)\n",
        "plt.title('Boxplots of Model Accuracy using Stratified 5 fold Cross Validation', fontsize = 18)\n",
        "\n",
        "colors = ['#DC3220', '#DC3220', '#DC3220']\n",
        "for patch, color in zip(box['boxes'], colors):\n",
        "    patch.set_facecolor(color)\n",
        "\n",
        " "
      ],
      "metadata": {
        "colab": {
          "base_uri": "https://localhost:8080/",
          "height": 524
        },
        "id": "VsHrZcHMuAFK",
        "outputId": "409b9ddc-6ec0-495d-feda-7a10fbffffa8"
      },
      "execution_count": null,
      "outputs": [
        {
          "output_type": "display_data",
          "data": {
            "image/png": "[encoded data removed]",
            "text/plain": [
              "<Figure size 864x576 with 1 Axes>"
            ]
          },
          "metadata": {
            "needs_background": "light"
          }
        }
      ]
    },
    {
      "cell_type": "markdown",
      "source": [
        "### How to reduce overfitting?\n",
        "\n",
        "\n",
        "In this subsection I look at how dropout reduces overfitting in a CNN. More specifically I will visualise the mean performance of the cnn model 3 with and without dropout using 5 fold cross validation."
      ],
      "metadata": {
        "id": "oHhRNYvBD72U"
      }
    },
    {
      "cell_type": "code",
      "source": [
        "#Mean performance on training data with 5-fold cv for CNN Model 3 with and without dropout\n",
        "cnn_model_3_train_mean = [sum(cnn_model_3_train_acc)/5, sum(cnn_model_3_dropout_train_acc)/5]"
      ],
      "metadata": {
        "id": "2RncSCpt_U_T"
      },
      "execution_count": null,
      "outputs": []
    },
    {
      "cell_type": "code",
      "source": [
        "#Mean performance on test data with 5-fold cv for CNN Model 3 with and without dropout\n",
        "cnn_model_3_test_mean = [sum(cnn_model_3_acc)/5, sum(cnn_model_3_dropout_acc)/5]"
      ],
      "metadata": {
        "id": "phuPyXcxZgyG"
      },
      "execution_count": null,
      "outputs": []
    },
    {
      "cell_type": "code",
      "source": [
        "#This plot creates a grouped bar chart of the cnn model 3 with and without dropout on the 5-fold split\n",
        "#Notice that when dropout is used the performance on the training and test data are closer(more consistent and test performance improves)\n",
        "dropout_bar_chart = plt.figure(figsize = (12,8))\n",
        "\n",
        "x = np.arange(2) \n",
        "\n",
        "plt.bar(x - 0.2, cnn_model_3_train_mean, 0.4, label='Training',hatch = '/',facecolor ='#DC3220' )\n",
        "plt.bar(x + 0.2, cnn_model_3_test_mean, 0.4, label='Testing',hatch = 'x',facecolor =  '#005AB5')\n",
        "\n",
        "plt.title('Grouped Bar Chart of Mean Accuracy Score from Cross Validation',fontsize = 20)\n",
        "plt.xlabel('Model Name',fontsize = 16)\n",
        "plt.ylabel('Accuracy',fontsize = 16)\n",
        "plt.xticks(x, ['CNN Model 3', 'CNN Model 3 with Dropout'],fontsize = 12)\n",
        "plt.yticks([0,0.1,0.2,0.3,0.4,0.5,0.6,0.7,0.8,0.9,1],fontsize = 12)\n",
        "plt.legend( prop={'size': 25}, bbox_to_anchor=(1.01,1))"
      ],
      "metadata": {
        "colab": {
          "base_uri": "https://localhost:8080/",
          "height": 544
        },
        "id": "vXG03oFPZWFj",
        "outputId": "ae33fca7-c086-4117-ebc1-4b700c2228ca"
      },
      "execution_count": null,
      "outputs": [
        {
          "output_type": "execute_result",
          "data": {
            "text/plain": [
              "<matplotlib.legend.Legend at 0x7f6899d75550>"
            ]
          },
          "metadata": {},
          "execution_count": 148
        },
        {
          "output_type": "display_data",
          "data": {
            "image/png": "[encoded data removed]",
            "text/plain": [
              "<Figure size 864x576 with 1 Axes>"
            ]
          },
          "metadata": {
            "needs_background": "light"
          }
        }
      ]
    },
    {
      "cell_type": "markdown",
      "source": [
        "### Final Model Testing\n",
        "\n",
        "In this section I will fit the final model I have chosen, the cnn model 3 with dropout, on the training dataset and evaluate its performance on the test data."
      ],
      "metadata": {
        "id": "fIPdaLPBFFZX"
      }
    },
    {
      "cell_type": "code",
      "source": [
        "#Fitting the final model on the training data\n",
        "greek_model_4.fit(X_train_cnn, y_train_cnn,  epochs=20, verbose=0)"
      ],
      "metadata": {
        "colab": {
          "base_uri": "https://localhost:8080/"
        },
        "id": "_j5jJmx3BSZM",
        "outputId": "f2897221-ed51-43f4-aa4c-8d28fc151af9"
      },
      "execution_count": null,
      "outputs": [
        {
          "output_type": "execute_result",
          "data": {
            "text/plain": [
              "<keras.callbacks.History at 0x7f6897a17790>"
            ]
          },
          "metadata": {},
          "execution_count": 125
        }
      ]
    },
    {
      "cell_type": "code",
      "source": [
        "#Evaluate Final model performance on test data\n",
        "greek_model_4.evaluate(X_test_cnn, y_test_cnn, verbose=1)"
      ],
      "metadata": {
        "colab": {
          "base_uri": "https://localhost:8080/"
        },
        "id": "n6IS4IdxBXYN",
        "outputId": "2df325ef-e756-40e7-cda5-3b8d1466164f"
      },
      "execution_count": null,
      "outputs": [
        {
          "output_type": "stream",
          "name": "stdout",
          "text": [
            "197/197 [==============================] - 3s 14ms/step - loss: 0.3214 - accuracy: 0.9026\n"
          ]
        },
        {
          "output_type": "execute_result",
          "data": {
            "text/plain": [
              "[0.32143643498420715, 0.9026015400886536]"
            ]
          },
          "metadata": {},
          "execution_count": 126
        }
      ]
    },
    {
      "cell_type": "markdown",
      "source": [
        "### Analysing CNN performance - Classification report\n",
        "\n",
        "In this subsection we dive deeper into evaluating the performance of the final model on the test data. This includes breaking down performance further by looking at precision,recall and f1 score for both the whole test data but also on a class by class basis."
      ],
      "metadata": {
        "id": "OT54QQ9YvzbT"
      }
    },
    {
      "cell_type": "code",
      "source": [
        "#Function takes in a model and returns the classification report for that model on the final test dataset.\n",
        "def cnn_model_performance(model):\n",
        "  ''' This function evaluates the performance of a model by returning its classification report.\n",
        "\n",
        "  parameters:\n",
        "  - model: model that you want to evaluate\n",
        "\n",
        "  output:\n",
        "  - classification report: Provides the accuracy, recall, f1-score for each class (each greek letter)\n",
        "  '''\n",
        "\n",
        "  #Predicts the test data\n",
        "  test_predicted = model.predict(X_test_cnn)\n",
        "  #Converts multilabel predicted data to single column value\n",
        "  test_predicted = np.argmax(np.round(test_predicted),axis=1)\n",
        "  #Converts test data to single column value\n",
        "  y_test_labels = np.argmax(np.round(y_test_cnn),axis=1)\n",
        "\n",
        "  #prints classification report to 4 decimal places\n",
        "  print(classification_report(y_test_labels, test_predicted,target_names = greek_letters, digits=4))"
      ],
      "metadata": {
        "id": "iSHhN0GgjcDQ"
      },
      "execution_count": null,
      "outputs": []
    },
    {
      "cell_type": "code",
      "source": [
        "#Prints classification report for the final model.\n",
        "cnn_model_performance(greek_model_4)"
      ],
      "metadata": {
        "colab": {
          "base_uri": "https://localhost:8080/"
        },
        "id": "4ZijrU4kmIEP",
        "outputId": "fbe4c905-ef3e-40ca-917b-0d34cb93073e"
      },
      "execution_count": null,
      "outputs": [
        {
          "output_type": "stream",
          "name": "stdout",
          "text": [
            "              precision    recall  f1-score   support\n",
            "\n",
            "      \\alpha     0.7954    0.9942    0.8838       520\n",
            "       \\beta     0.9777    0.9690    0.9733       226\n",
            "      \\gamma     0.9722    0.9211    0.9459       228\n",
            "      \\delta     0.9667    0.9317    0.9489       249\n",
            "    \\epsilon     0.9194    0.5229    0.6667       109\n",
            "       \\zeta     0.9660    0.8161    0.8847       174\n",
            "        \\eta     0.9853    0.9781    0.9817       137\n",
            "      \\theta     0.7917    0.8769    0.8321       130\n",
            "       \\iota     0.9355    0.9355    0.9355        31\n",
            "      \\kappa     0.8800    0.8800    0.8800        50\n",
            "     \\lambda     0.9747    0.9698    0.9723       199\n",
            "         \\mu     0.9912    0.9869    0.9891       229\n",
            "         \\nu     0.9221    0.9103    0.9161        78\n",
            "         \\xi     0.9680    0.9416    0.9546       514\n",
            "         \\pi     0.8006    0.8502    0.8246       307\n",
            "        \\rho     0.8667    0.8478    0.8571       138\n",
            "      \\sigma     0.9688    0.9644    0.9666       225\n",
            "        \\tau     0.8864    0.9176    0.9017        85\n",
            "        \\phi     0.7949    0.9051    0.8464       137\n",
            "        \\chi     0.9572    0.9624    0.9598       186\n",
            "        \\psi     0.7071    0.6195    0.6604       113\n",
            "      \\omega     0.9675    0.9444    0.9558       126\n",
            "      \\Gamma     0.9462    0.9919    0.9685       124\n",
            "      \\Delta     0.8848    0.8492    0.8667       199\n",
            "      \\Theta     0.8228    0.7065    0.7602        92\n",
            "     \\Lambda     0.6768    0.7614    0.7166        88\n",
            "         \\Xi     1.0000    0.9500    0.9744        80\n",
            "         \\Pi     0.7302    0.5750    0.6434       160\n",
            "      \\Sigma     0.9614    0.9791    0.9702       382\n",
            "        \\Phi     0.8972    0.7869    0.8384       122\n",
            "        \\Psi     0.6824    0.6444    0.6629        90\n",
            "      \\Omega     1.0000    0.9333    0.9655       165\n",
            " \\varepsilon     0.7198    0.8851    0.7939       148\n",
            "   \\varkappa     0.8636    0.6552    0.7451        29\n",
            "      \\varpi     1.0000    0.8621    0.9259        29\n",
            "     \\varrho     0.7674    0.7500    0.7586        44\n",
            "     \\varphi     0.9381    0.9474    0.9427       304\n",
            "   \\vartheta     0.9583    0.8070    0.8762        57\n",
            "\n",
            "    accuracy                         0.8967      6304\n",
            "   macro avg     0.8906    0.8613    0.8723      6304\n",
            "weighted avg     0.9005    0.8967    0.8955      6304\n",
            "\n"
          ]
        }
      ]
    },
    {
      "cell_type": "markdown",
      "source": [
        "# My Images!\n",
        "\n",
        "I have attached an additonal workbook that will document how you can test your own models or the models shown in this workbook on your own handwritting. Please visit the My Images workbook on my GitHub repository."
      ],
      "metadata": {
        "id": "FmA1HAYzNUCQ"
      }
    },
    {
      "cell_type": "markdown",
      "source": [
        "# Image data with Keras (Further Work)\n",
        "\n",
        "In this section I provide an alternative solution to loading images using keras imagedatagenerator and flow_from_dataframe. Additionally, using keras to load our images allows us to perform image augmentations to the images while the convolutional neural network is running. Due to time constraints on this project, this section is more of an experiment for learning rather than a deep look at improving the final performance of our models. With more time I would like to dive deeper into fine tuning the augmentation to hopefully improve my results."
      ],
      "metadata": {
        "id": "ocZ9AP_xJof1"
      }
    },
    {
      "cell_type": "code",
      "source": [
        "#We will be using keras flow_from_dataframe which takes a dataframe of two columns, one column with the paths to the images and the other \n",
        "# with the images label (what greek letter it is)\n",
        "keras_df = greek_letters_df[['path','latex']]"
      ],
      "metadata": {
        "id": "84M1m0_OJof2"
      },
      "execution_count": null,
      "outputs": []
    },
    {
      "cell_type": "code",
      "source": [
        "#Since We are working with dataframe I need to define another splitting function which is used for the final train and test split. This is not\n",
        "# a splitting function for k fold validation\n",
        "def keras_image_df_split(df,split):\n",
        "\n",
        "  #Define the feature data (image pixel arrays) and the target latex\n",
        "  X = df[['path']]\n",
        "  y = df[['latex']]\n",
        "\n",
        "  #Creates training and test split with test size of 0.2\n",
        "  X_train,X_test,y_train,y_test = train_test_split(X,y,test_size = split,random_state =32)\n",
        "\n",
        "  return X_train,X_test,y_train,y_test"
      ],
      "metadata": {
        "id": "a7nBEUpqJof3"
      },
      "execution_count": null,
      "outputs": []
    },
    {
      "cell_type": "code",
      "source": [
        "X_train_aug,X_test_aug,y_train_aug,y_test_aug = keras_image_df_split(keras_df,0.2)"
      ],
      "metadata": {
        "id": "MwYFjYEhJof4"
      },
      "execution_count": null,
      "outputs": []
    },
    {
      "cell_type": "code",
      "source": [
        "#Creates a ImageDataGenerator - This allows us to define how we will process the images when we load in the images - In the train dataset we\n",
        "#will normalise the images(divide by 255) and then augment the images by rotating, shearing and zooming randomly \n",
        "train_datagen = ImageDataGenerator(\n",
        "        rescale=1./255,\n",
        "        rotation_range = 20,\n",
        "        shear_range=0.2,\n",
        "        zoom_range=0.2)"
      ],
      "metadata": {
        "id": "rLE5RTN8Jof4"
      },
      "execution_count": null,
      "outputs": []
    },
    {
      "cell_type": "code",
      "source": [
        "#On the test data we dont want to perform any augmentations so we will only normalise\n",
        "test_datagen=ImageDataGenerator(rescale=1./255.)"
      ],
      "metadata": {
        "id": "qfqeZWLrJof5"
      },
      "execution_count": null,
      "outputs": []
    },
    {
      "cell_type": "code",
      "source": [
        "#Since the train_datagens require dataframes and not arrays I had to create another custom k_fold_cross_validation function for augmentation.\n",
        "# The input required is a dataframe containing image paths and dataframe containing image labels and k, the number of splits you want for the k fold\n",
        "# cross validation\n",
        "\n",
        "def k_fold_cross_val_data_augmentation(X_train,y_train,k):\n",
        "  #Creates empty lists for storing model accuracy\n",
        "  acc_scores = []\n",
        "\n",
        "  #Define the stratified k fold splitting\n",
        "  k_fold_split = StratifiedKFold(n_splits=k)\n",
        "\n",
        "\n",
        "  #Iterate through the splitting for the train and test set\n",
        "  for train_index, test_index in k_fold_split.split(X_train, y_train):\n",
        "    #Select the relevant rows from the input dataframes\n",
        "    X_train_val, X_test_val = X_train.iloc[train_index], X_train.iloc[test_index]\n",
        "    y_train_val, y_test_val = y_train.iloc[train_index], y_train.iloc[test_index]\n",
        "\n",
        "    #Combines the two training dataframes into one called train_df\n",
        "    train_df = X_train_val.copy()\n",
        "    train_df['latex'] = y_train_val\n",
        "\n",
        "    #Combines the two validation dataframes into one called test_df\n",
        "    test_df = X_test_val.copy()\n",
        "    test_df['latex'] = y_test_val\n",
        "\n",
        "    #This section was from/inspired by https://vijayabhaskar96.medium.com/tutorial-on-keras-flow-from-dataframe-1fd4493d237c\n",
        "\n",
        "    #Defines the train generator using the train_datagen(i.e the images we will augment)\n",
        "    train_generator=train_datagen.flow_from_dataframe(\n",
        "    dataframe=train_df,\n",
        "    directory=None,\n",
        "    x_col=\"path\",\n",
        "    y_col=\"latex\",\n",
        "    batch_size=32,\n",
        "    seed=32,\n",
        "    shuffle=True,\n",
        "    class_mode=\"categorical\",\n",
        "    target_size=(32,32),\n",
        "    color_mode=\"grayscale\")\n",
        "\n",
        "\n",
        "    #Defines the validaton generator~(i.e the test data for the k fold cross validation)\n",
        "    validation_generator=test_datagen.flow_from_dataframe(\n",
        "    dataframe=test_df,\n",
        "    directory=None,\n",
        "    x_col=\"path\",\n",
        "    y_col=\"latex\",\n",
        "    batch_size=32,\n",
        "    seed=32,\n",
        "    shuffle=True,\n",
        "    class_mode=\"categorical\",\n",
        "    target_size=(32,32),\n",
        "    color_mode=\"grayscale\")\n",
        "\n",
        "    #Instatiate the cnn model 3 with dropout\n",
        "    model = cnn_model_3_dropout()\n",
        "\n",
        "    #Defines the step size and fits the model using the training generator\n",
        "    model.fit_generator(generator=train_generator,\n",
        "                    steps_per_epoch=train_generator.n//32,\n",
        "                    validation_data=validation_generator,\n",
        "                    validation_steps=validation_generator.n//32,\n",
        "                    epochs=10,\n",
        "                    verbose = 0)\n",
        "    \n",
        "    #Calculates the test loss and test accuracy using the validation generator\n",
        "    test_loss,test_acc = model.evaluate_generator(generator=validation_generator, steps=validation_generator.n//32)\n",
        "    \n",
        "    #Append test acc to the acc_score list\n",
        "    acc_scores.append(test_acc)\n",
        "    \n",
        "\n",
        "  return acc_scores\n"
      ],
      "metadata": {
        "id": "DTMLDluvJof5"
      },
      "execution_count": null,
      "outputs": []
    },
    {
      "cell_type": "code",
      "source": [
        "#Runs the 5 fold cross validation on the augmented dataset with the cnn model 3 with dropout - Note that it takes roughly 45+ minutes to run\n",
        "cnn_model_3_dropout_with_aug_acc = k_fold_cross_val_data_augmentation(X_train_aug,y_train_aug,5)"
      ],
      "metadata": {
        "id": "6TeiC24IJof6"
      },
      "execution_count": null,
      "outputs": []
    },
    {
      "cell_type": "code",
      "source": [
        "#To check the performance of the cnn model 3 with image augmentation I calculate the mean accruacy over the 5 fold cross validation\n",
        "print('Mean accuracy: ' + str(sum(cnn_model_3_dropout_with_aug_acc)/5))"
      ],
      "metadata": {
        "colab": {
          "base_uri": "https://localhost:8080/"
        },
        "outputId": "44f38626-70cb-4391-b373-5181e3a16e3f",
        "id": "Wkq1ifEuJof7"
      },
      "execution_count": null,
      "outputs": [
        {
          "output_type": "stream",
          "name": "stdout",
          "text": [
            "Mean accuracy: 0.858984375\n"
          ]
        }
      ]
    }
  ],
  "metadata": {
    "colab": {
      "collapsed_sections": [],
      "name": "Classifying Handwritten Greek Letters With CNNs.ipynb",
      "provenance": []
    },
    "kernelspec": {
      "display_name": "Python 3",
      "name": "python3"
    },
    "language_info": {
      "name": "python"
    }
  },
  "nbformat": 4,
  "nbformat_minor": 0
}