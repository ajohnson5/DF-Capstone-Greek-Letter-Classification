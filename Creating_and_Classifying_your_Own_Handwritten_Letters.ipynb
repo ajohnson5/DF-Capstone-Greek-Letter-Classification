{
  "nbformat": 4,
  "nbformat_minor": 0,
  "metadata": {
    "colab": {
      "name": "Creating and Classifying your Own Handwritten Letters",
      "provenance": []
    },
    "kernelspec": {
      "name": "python3",
      "display_name": "Python 3"
    },
    "language_info": {
      "name": "python"
    }
  },
  "cells": [
    {
      "cell_type": "markdown",
      "source": [
        "# Classifying your Own Handwritten Letters\n",
        "\n",
        "In this workbook I will document and instruct on how you can firstly create your own images of handwritten Greek letters and then use the model that you have created in the \"Classifying_Handwritten_Greek_Letters\" workbook to classify the images. Note this is instructional and the programming portion should be done in the \"Classifying_Handwritten_Greek_Letters\" workbook so feel free to copy and paste the code that will follow into the \"My Images\" section. Some of the code in this workbook relies on functions from the other workbook and some of the imported packages. "
      ],
      "metadata": {
        "id": "pPjoUZhT6uGO"
      }
    },
    {
      "cell_type": "markdown",
      "source": [
        "# The Handwriting(or \"mouse-writing\") Begins\n",
        "\n",
        "The first task we must deal with is actually creating our images of our handwritten Greek letters. More specifically we must create 38 images, one for each Greek letter in our collection. The complete collection is shown below with their associated names.\n",
        "\n",
        "\n",
        "<img align=\"right\" height=\"320px\" src=\"https://user-images.githubusercontent.com/99501368/157116211-4706a265-8320-4508-9394-ed54ab2358d6.PNG\">\n",
        "\n",
        "To actually create the images you can use any drawing tool online or one you own. I would personally recommend https://kleki.com/  for a few reasons. There are a couple of key facts we must remember about the images in the HASYv2 dataset:\n",
        "\n",
        "\n",
        "1.   Images are 32x32 in size\n",
        "2.   Images are black and white\n",
        "3. Letters are not drawn with a pixelatted pencil effect rather than a smooth brush. \n",
        "\n",
        "Kleki allows us to complete all of these objectives easily. To reshape the image size we begin by clicking the \"Edit\" tab on the right hand size and then clicking \"Resize\" button that appears. This allows us to specify a width and height of 32 pixels (if you struggle to do this remember to turn off \"Constrain Proportions\"). Next we use the pixel drawing option which is one of the options for your cursor just above the size slider. The size slider should be set 1 as since our images are very small, any bigger and you wont fit the letter in their. With all of these steps completed you are now ready to begin writing whether that be with your mouse or if you want, and own one, use your graphics tablet to more accuractely represent your handwriting. I would recommend going in the order of the image above, starting from alpha and continuing as if you were reading a book. After each letter has been written, Kleki easily allows you to download the image with the blue downwards arrow in the top right. \n",
        "\n",
        "Once you have created and downloaded all of the 38 images, I would recommend renaming with the same names as in the python list below. The format is as follows:\n",
        "\n",
        "\n",
        "*   Lower case = \"name_lower.png\"\n",
        "*   Upper case = \"name.png\"\n",
        "*   Variant = \"varname.png\"\n",
        "\n",
        "\n",
        "\n",
        "\n",
        "\n",
        "\n",
        "\n"
      ],
      "metadata": {
        "id": "7gmt0SPS7NWU"
      }
    },
    {
      "cell_type": "code",
      "execution_count": 4,
      "metadata": {
        "id": "6K5PzjHH6lhe"
      },
      "outputs": [],
      "source": [
        "my_image_paths = ['alpha_lower.png','beta_lower.png','gamma_lower.png','delta_lower.png','epsilon_lower.png','zeta_lower.png','eta_lower.png',\n",
        "                  'theta_lower.png','iota_lower.png','kappa_lower.png','lambda_lower.png','mu_lower.png','nu_lower.png','xi_lower.png',\n",
        "                  'pi_lower.png','rho_lower.png','sigma_lower.png','tau_lower.png','phi_lower.png','chi_lower.png','psi_lower.png',\n",
        "                  'omega_lower.png','gamma.png','delta.png','theta.png','lambda.png','xi.png','pi.png',\n",
        "                  'sigma.png','phi.png','psi.png','omega.png','varepsilon.png','varkappa.png','varpi.png','varrho.png','varphi.png','vartheta.png']"
      ]
    },
    {
      "cell_type": "markdown",
      "source": [
        "# Classifying your images!\n",
        "\n",
        "Now that you have your images created and saved, its not time to upload them to your workspace. If you are on Google Colab this is easy to do, begin by zipping the file and uploading to Google Colab and then unzipping the file. This will create a directory containing all of your images. The command for unzipping is shown below. After running each of these code blocks in the other file, the final stage is to call the function with your desired model and your accuracy score will be produced. "
      ],
      "metadata": {
        "id": "ahC_RhwuET0L"
      }
    },
    {
      "cell_type": "code",
      "source": [
        "#Unzip the uploaded zipped file containing the images of my handwritten greek letters. Be sure to change the text\n",
        "# \"name_of_zipped_file\" to what you actually named the file\n",
        "!unzip name_of_zipped_file.zip"
      ],
      "metadata": {
        "id": "07Q1cn-fFwI7"
      },
      "execution_count": null,
      "outputs": []
    },
    {
      "cell_type": "code",
      "source": [
        "#Move the current directory to the folder containing these images.  Be sure to change the text \"name_of_zipped_file\" \n",
        "# to what you actually named the file\n",
        "os.chdir('name_of_zipped_file')"
      ],
      "metadata": {
        "id": "ZLWI14qyF-hz"
      },
      "execution_count": null,
      "outputs": []
    },
    {
      "cell_type": "code",
      "source": [
        "#Assign each letter a unique vlaue between 0 and 37. (This corresponds to the encoding in the original workbook)\n",
        "my_images_encoded = [x for x in range(38)]"
      ],
      "metadata": {
        "id": "XOT3x-hMEIU5"
      },
      "execution_count": null,
      "outputs": []
    },
    {
      "cell_type": "code",
      "source": [
        "def classify_my_images(model, img_paths = my_image_paths):\n",
        "  ''' This function evaluates the performance of a model on your own handwritten images.\n",
        "\n",
        "  parameters:\n",
        "  - img_paths: list of image paths\n",
        "  - model: model that you want to use to classify your images\n",
        "\n",
        "  output:\n",
        "  - Accuracy score of the model specified on your own images\n",
        "  '''\n",
        "\n",
        "\n",
        "  my_full_img_array_cnn, my_full_img_array =  image_processing_func(img_paths)\n",
        "\n",
        "  #Predict the image classes using the model you provided\n",
        "  test_predicted = model.predict(my_full_img_array_cnn)\n",
        "  #Convert the output of the model(recall output for one image is of the form [0 0 0 1 0 0 ... 0 0])  so we find the column that the 1 appears and \n",
        "  #this is the class of the image\n",
        "  test_predicted = np.argmax(test_predicted,axis = 1)\n",
        "\n",
        "  print(accuracy_score(test_predicted,my_images_encoded))"
      ],
      "metadata": {
        "id": "j_qBto7xEPlh"
      },
      "execution_count": null,
      "outputs": []
    }
  ]
}